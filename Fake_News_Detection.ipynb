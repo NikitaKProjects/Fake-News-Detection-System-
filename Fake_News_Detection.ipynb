{
  "nbformat": 4,
  "nbformat_minor": 0,
  "metadata": {
    "colab": {
      "provenance": [],
      "mount_file_id": "1Qul65ms5IF9sj0-Red8m-fEsl_CuetYS",
      "authorship_tag": "ABX9TyPybUNps4agTrgeoBdIT2x5",
      "include_colab_link": true
    },
    "kernelspec": {
      "name": "python3",
      "display_name": "Python 3"
    },
    "language_info": {
      "name": "python"
    }
  },
  "cells": [
    {
      "cell_type": "markdown",
      "metadata": {
        "id": "view-in-github",
        "colab_type": "text"
      },
      "source": [
        "<a href=\"https://colab.research.google.com/github/NikitaKProjects/Fake-News-Detection-System-/blob/main/Fake_News_Detection.ipynb\" target=\"_parent\"><img src=\"https://colab.research.google.com/assets/colab-badge.svg\" alt=\"Open In Colab\"/></a>"
      ]
    },
    {
      "cell_type": "code",
      "execution_count": null,
      "metadata": {
        "id": "Szat-E_gVjWs"
      },
      "outputs": [],
      "source": []
    },
    {
      "cell_type": "code",
      "execution_count": null,
      "metadata": {
        "id": "UcVIANthWR2F"
      },
      "outputs": [],
      "source": [
        "import pandas as pd\n",
        "import numpy as np\n",
        "import seaborn as sns\n",
        "import matplotlib.pyplot as plt\n",
        "from sklearn.model_selection import train_test_split\n",
        "from sklearn.metrics import accuracy_score\n",
        "from sklearn.metrics import classification_report\n",
        "import re\n",
        "import string"
      ]
    },
    {
      "cell_type": "code",
      "source": [
        "data_fake = pd.read_csv(\"/Fake.csv\")\n",
        "data_true = pd.read_csv(\"/True.csv\")\n",
        "data_fake.head()\n",
        "data_true.head()"
      ],
      "metadata": {
        "id": "z-WTho1oY-Gu"
      },
      "execution_count": null,
      "outputs": []
    },
    {
      "cell_type": "code",
      "source": [
        "data_fake[\"class\"]=0\n",
        "data_true[\"class\"]=1"
      ],
      "metadata": {
        "id": "xZtKYmE8ZxTk"
      },
      "execution_count": null,
      "outputs": []
    },
    {
      "cell_type": "code",
      "source": [
        "data_fake.shape, data_true.shape"
      ],
      "metadata": {
        "id": "d_nChCnhaKFa"
      },
      "execution_count": null,
      "outputs": []
    },
    {
      "cell_type": "code",
      "source": [
        "data_fake_manual_testing = data_fake.tail(10)\n",
        "for i in range(23480,23470,-1):\n",
        "  data_fake.drop([i],axis=0,inplace=True)\n",
        "\n",
        "data_true_manual_testing = data_true.tail(10)\n",
        "for i in range(21416,21406,-1):\n",
        "  data_true.drop([i],axis=0,inpace=True)"
      ],
      "metadata": {
        "collapsed": true,
        "id": "_TG8TsyQZrIv"
      },
      "execution_count": null,
      "outputs": []
    },
    {
      "cell_type": "code",
      "source": [
        "data_fake_manual_testing['class']=0\n",
        "data_true_manual_testing['class']=1"
      ],
      "metadata": {
        "id": "Cn9NlizEa24X"
      },
      "execution_count": null,
      "outputs": []
    },
    {
      "cell_type": "code",
      "source": [
        "data_merge = pd.concat([data_fake,data_true],axis=0)\n",
        "data_merge.head(10)"
      ],
      "metadata": {
        "id": "aEPNjBr2bAOQ"
      },
      "execution_count": null,
      "outputs": []
    },
    {
      "cell_type": "code",
      "source": [
        "data = data_merge.drop(['title','subject','date'],axis=1)"
      ],
      "metadata": {
        "id": "SrnrUW-rbMr7"
      },
      "execution_count": null,
      "outputs": []
    },
    {
      "cell_type": "code",
      "source": [
        "def wordopt(text):\n",
        "    # Convert text to lowercase\n",
        "    text = text.lower()\n",
        "\n",
        "    # Remove text within square brackets\n",
        "    text = re.sub(r'\\[.*?\\]', '', text)\n",
        "\n",
        "    # Remove all non-word characters (punctuation, etc.)\n",
        "    text = re.sub(r\"\\W\", \" \", text)\n",
        "\n",
        "    # Remove URLs\n",
        "    text = re.sub(r'https?://\\S+|www\\.\\S+', '', text)\n",
        "\n",
        "    # Remove HTML tags\n",
        "    text = re.sub(r'<.*?>+', '', text)\n",
        "\n",
        "    # Remove punctuation using re.escape for safety\n",
        "    text = re.sub(f'[{re.escape(string.punctuation)}]', '', text)\n",
        "\n",
        "    # Remove new lines\n",
        "    text = re.sub(r'\\n', '', text)\n",
        "\n",
        "    # Remove words containing numbers\n",
        "    text = re.sub(r'\\w*\\d\\w*', '', text)\n",
        "\n",
        "    # Remove extra spaces\n",
        "    text = re.sub(r'\\s+', ' ', text).strip()\n",
        "\n",
        "    return text"
      ],
      "metadata": {
        "id": "_qfZ6XN9bWOZ"
      },
      "execution_count": null,
      "outputs": []
    },
    {
      "cell_type": "code",
      "source": [
        "data['text']= data['text'].apply(wordopt)"
      ],
      "metadata": {
        "id": "21kbejuTcYQy"
      },
      "execution_count": null,
      "outputs": []
    },
    {
      "cell_type": "code",
      "source": [
        "x=data['text']\n",
        "y=data['class']"
      ],
      "metadata": {
        "id": "q-YwqPeUc5Fg"
      },
      "execution_count": null,
      "outputs": []
    },
    {
      "cell_type": "code",
      "source": [
        "x_train, x_test, y_train,y_test = train_test_split(x,y,test_size=0.25)"
      ],
      "metadata": {
        "id": "AGTv2JgLchoe"
      },
      "execution_count": null,
      "outputs": []
    },
    {
      "cell_type": "code",
      "source": [
        "from sklearn.feature_extraction.text import TfidfVectorizer\n",
        "vectorization = TfidfVectorizer()\n",
        "xv_train = vectorization.fit_transform(x_train)\n",
        "xv_test = vectorization.transform(x_test)"
      ],
      "metadata": {
        "id": "lKuhyIUCdL7T"
      },
      "execution_count": null,
      "outputs": []
    },
    {
      "cell_type": "code",
      "source": [
        "from sklearn.linear_model import LogisticRegression\n",
        "\n",
        "LR = LogisticRegression()\n",
        "LR.fit(xv_train,y_train)"
      ],
      "metadata": {
        "id": "jaYWdzIFdToA"
      },
      "execution_count": null,
      "outputs": []
    },
    {
      "cell_type": "code",
      "source": [
        "pred_lr = LR.predict(xv_test)\n",
        "LR.score(xv_test,y_test)\n",
        "print(classification_report(y_test,pred_lr))"
      ],
      "metadata": {
        "id": "pfyPdTwad-7J"
      },
      "execution_count": null,
      "outputs": []
    },
    {
      "cell_type": "code",
      "source": [
        "from sklearn.tree import DecisionTreeClassifier\n",
        "\n",
        "DT = DecisionTreeClassifier()\n",
        "DT.fit(xv_train,y_train)"
      ],
      "metadata": {
        "id": "L5wTA1qQeOYy"
      },
      "execution_count": null,
      "outputs": []
    },
    {
      "cell_type": "code",
      "source": [
        "pred_dt = DT.predict(xv_test)\n",
        "DT.score(xv_test,y_test)\n",
        "#print(classification_report(y_test,pred_dt))"
      ],
      "metadata": {
        "id": "XPHyCo-CejQT"
      },
      "execution_count": null,
      "outputs": []
    },
    {
      "cell_type": "code",
      "source": [
        "\n",
        "from sklearn.ensemble import GradientBoostingClassifier\n",
        "from sklearn.metrics import classification_report, accuracy_score\n",
        "\n",
        "GBC = GradientBoostingClassifier()\n",
        "GBC.fit(xv_train, y_train)\n",
        "pred_gbc = GBC.predict(xv_test)\n",
        "accuracy_gbc = GBC.score(xv_test, y_test)\n",
        "print(\"Gradient Boosting Classifier Accuracy: {:.2f}%\".format(accuracy_gbc * 100))\n",
        "print(classification_report(y_test, pred_gbc))"
      ],
      "metadata": {
        "id": "ZHxcRYjPh1rC"
      },
      "execution_count": null,
      "outputs": []
    },
    {
      "cell_type": "code",
      "source": [
        "from sklearn.ensemble import RandomForestClassifier\n",
        "\n",
        "RFC = RandomForestClassifier()\n",
        "RFC.fit(xv_train, y_train)\n",
        "pred_rfc = RFC.predict(xv_test)\n",
        "accuracy_rfc = RFC.score(xv_test, y_test)\n",
        "print(\"Random Forest Classifier Accuracy: {:.2f}%\".format(accuracy_rfc * 100))\n",
        "print(classification_report(y_test, pred_rfc))\n"
      ],
      "metadata": {
        "id": "wdoP9d_ah6Rm"
      },
      "execution_count": null,
      "outputs": []
    },
    {
      "cell_type": "code",
      "source": [
        "def output_label(n):\n",
        "    if n == 0:\n",
        "        return \"Fake_News\"\n",
        "    elif n == 1:\n",
        "        return \"Not a Fake_News\"\n",
        "\n",
        "def manual_testing(news):\n",
        "    testing_news = {\"text\": [news]}\n",
        "    new_def_test = pd.DataFrame(testing_news)\n",
        "    new_def_test[\"text\"] = new_def_test[\"text\"].apply(wordopt)\n",
        "    new_x_test = new_def_test[\"text\"]\n",
        "    new_xv_test = vectorization.transform(new_x_test)\n",
        "\n",
        "    # Predictions\n",
        "    pred_LR = LR.predict(new_xv_test)\n",
        "    pred_DT = DT.predict(new_xv_test)\n",
        "    pred_GBC = GBC.predict(new_xv_test)\n",
        "    pred_RFC = RFC.predict(new_xv_test)\n",
        "\n",
        "    return print(\"\\n\\nLR Prediction: {} \\nDT Prediction: {} \\nGBC Prediction: {} \\nRFC Prediction: {}\".format(\n",
        "        output_label(pred_LR[0]),\n",
        "        output_label(pred_DT[0]),\n",
        "        output_label(pred_GBC[0]),\n",
        "        output_label(pred_RFC[0])\n",
        "    ))\n",
        ""
      ],
      "metadata": {
        "id": "j3oa3i58evh9"
      },
      "execution_count": null,
      "outputs": []
    },
    {
      "cell_type": "code",
      "source": [],
      "metadata": {
        "id": "yhlCe18hh5VT"
      },
      "execution_count": null,
      "outputs": []
    },
    {
      "cell_type": "code",
      "source": [
        "news =str(input())\n",
        "manual_testing(news)"
      ],
      "metadata": {
        "id": "V05d9lXygV1V"
      },
      "execution_count": null,
      "outputs": []
    },
    {
      "cell_type": "code",
      "source": [],
      "metadata": {
        "id": "uzcfcoSugbB1"
      },
      "execution_count": null,
      "outputs": []
    }
  ]
}